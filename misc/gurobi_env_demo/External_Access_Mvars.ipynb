{
 "cells": [
  {
   "cell_type": "markdown",
   "metadata": {},
   "source": [
    "The latest version of Gurobi (v10.0) introduced the matrix variable (Mvar) type. It is a very useful tool for modeling. However, it is not easy to access the Mvar like getVarByName() from a outside function. In this notebook, I will show you how to access the Mvar in the outside of the model."
   ]
  },
  {
   "cell_type": "code",
   "execution_count": 1,
   "metadata": {},
   "outputs": [],
   "source": [
    "import gurobipy as gp\n",
    "from gurobipy import GRB\n",
    "import numpy as np"
   ]
  },
  {
   "cell_type": "markdown",
   "metadata": {},
   "source": [
    "This sample is to change the value np.ndarry parameter \"b\" before solving the problem.\n",
    "To achieve this, we need to fix the value of a Mvar (b) by using the external function \"_fix_mvar\""
   ]
  },
  {
   "cell_type": "code",
   "execution_count": 2,
   "metadata": {},
   "outputs": [],
   "source": [
    "model = gp.Model(\"LP\")\n",
    "\n",
    "x = model.addMVar(2, lb=0, ub=gp.GRB.INFINITY)\n",
    "\n",
    "c = np.array([[3, 5]])\n",
    "A = np.array([[1, 0],\n",
    "                [0, 2],\n",
    "                [3, 2]])\n",
    "\n",
    "# b_old = np.array([4, 12, 18]) # The optimal value should be 36\n",
    "# b_new = np.array([0.5, 0.5, 0.5]) # The optimal value should be 1.25\n",
    "b = model.addMVar(shape=3,name=\"b\")\n",
    "\n",
    "model.addConstr(A @ x <= b)\n",
    "# m.addConstr(b == np.array([4, 12, 18]))\n",
    "\n",
    "model.setObjective(c @ x, GRB.MAXIMIZE)\n",
    "\n",
    "model.update() #NOTE !! You MUST call update() method before modifying the model\n"
   ]
  },
  {
   "cell_type": "code",
   "execution_count": 3,
   "metadata": {},
   "outputs": [],
   "source": [
    "def _getMvarByName(model:gp.Model,mvar_name:str,shape:list) -> dict:\n",
    "    \"\"\"Mar version of getVarByName in gurobi 10.0\n",
    "\n",
    "    Args:\n",
    "        model (grb.Model): gurobi model\n",
    "        mvar_name (str): mvar name defined in gurobi model\n",
    "        dim (list): dimension of mvar. For 1D mvar, dim = [i]. For 2D mvar, dim = [i,j]\n",
    "\n",
    "    Returns:\n",
    "        dict: a dictionary of mvar, which links the original mvar name to a new name that can be used in external functions\n",
    "    \"\"\"\n",
    "    mvars_ = {}\n",
    "    if len(shape) == 1:\n",
    "        for i in range(shape[0]):\n",
    "            mvars_[i] = model.getVarByName(mvar_name + \"[%d]\" % (i))    \n",
    "                 \n",
    "    elif len(shape) == 2:\n",
    "        for i in range(shape[0]):\n",
    "            for j in range(shape[1]):\n",
    "                mvars_[i,j] = model.getVarByName(mvar_name + \"[%d,%d]\" % (i,j))  \n",
    "                      \n",
    "    else:\n",
    "        raise ValueError(\"Currently only 1D and 2D mvars are supported\")\n",
    "        \n",
    "    return mvars_\n",
    "\n",
    "\n",
    "def _fixMvar(model:gp.Model, mvar_name:str, shape:list, value:np.ndarray, cons_name:str) -> None:\n",
    "    \n",
    "    dict_mvar = _getMvarByName(model, mvar_name, shape)\n",
    "    if value.ndim == 1:\n",
    "        if model.getConstrByName(cons_name + \"[0]\") is not None:\n",
    "            _removeMvarConstrs(model, cons_name, shape)\n",
    "            \n",
    "        model.addConstrs((dict_mvar[i] == value[i] for i in range(len(value))), name=cons_name)\n",
    "        \n",
    "    elif value.ndim == 2:\n",
    "        if model.getConstrByName(cons_name + \"[0,0]\") is not None:\n",
    "            _removeMvarConstrs(model, cons_name, shape)\n",
    "            \n",
    "        model.addConstrs((dict_mvar[i,j] == value[i,j] for i in range(value.shape[0]) for j in range(value.shape[1])), name=cons_name)\n",
    "        \n",
    "    else:\n",
    "        raise ValueError(\"Currently only 1D and 2D mvars are supported\")\n",
    "    \n",
    "    \n",
    "def _removeMvarConstrs(model:gp.Model, cons_name:str, shape:list) -> None:\n",
    "    \n",
    "    cons = {}\n",
    "    if len(shape) == 1:\n",
    "        for i in range(shape[0]):\n",
    "            cons[i] = model.getConstrByName(cons_name + \"[%d]\" %(i))\n",
    "            \n",
    "    elif len(shape) == 2:\n",
    "        for i in range(shape[0]):\n",
    "            for j in range(shape[1]):\n",
    "                cons[i, j] = model.getConstrByName(cons_name + \"[%d,%d]\" %(i, j))\n",
    "    else:\n",
    "        raise ValueError(\"Currently only 1D and 2D mvars are supported\")\n",
    "            \n",
    "    model.remove(cons)"
   ]
  },
  {
   "cell_type": "code",
   "execution_count": 4,
   "metadata": {},
   "outputs": [
    {
     "name": "stdout",
     "output_type": "stream",
     "text": [
      "Gurobi Optimizer version 10.0.2 build v10.0.2rc0 (win64)\n",
      "\n",
      "CPU model: 13th Gen Intel(R) Core(TM) i5-1340P, instruction set [SSE2|AVX|AVX2]\n",
      "Thread count: 12 physical cores, 16 logical processors, using up to 16 threads\n",
      "\n",
      "Optimize a model with 6 rows, 5 columns and 10 nonzeros\n",
      "Model fingerprint: 0x9ddcd0ca\n",
      "Coefficient statistics:\n",
      "  Matrix range     [1e+00, 3e+00]\n",
      "  Objective range  [3e+00, 5e+00]\n",
      "  Bounds range     [0e+00, 0e+00]\n",
      "  RHS range        [4e+00, 2e+01]\n",
      "Presolve removed 5 rows and 3 columns\n",
      "Presolve time: 0.01s\n",
      "Presolved: 1 rows, 2 columns, 2 nonzeros\n",
      "\n",
      "Iteration    Objective       Primal Inf.    Dual Inf.      Time\n",
      "       0    4.5000000e+01   1.500000e+00   0.000000e+00      0s\n",
      "       1    3.6000000e+01   0.000000e+00   0.000000e+00      0s\n",
      "\n",
      "Solved in 1 iterations and 0.01 seconds (0.00 work units)\n",
      "Optimal objective  3.600000000e+01\n"
     ]
    }
   ],
   "source": [
    "b_old = np.array([4, 12, 18])    \n",
    "_fixMvar(model=model,mvar_name=\"b\",shape=[3],value=b_old,cons_name=\"fix_b\")\n",
    "model.optimize()"
   ]
  },
  {
   "cell_type": "code",
   "execution_count": 5,
   "metadata": {},
   "outputs": [
    {
     "name": "stdout",
     "output_type": "stream",
     "text": [
      "Gurobi Optimizer version 10.0.2 build v10.0.2rc0 (win64)\n",
      "\n",
      "CPU model: 13th Gen Intel(R) Core(TM) i5-1340P, instruction set [SSE2|AVX|AVX2]\n",
      "Thread count: 12 physical cores, 16 logical processors, using up to 16 threads\n",
      "\n",
      "Optimize a model with 6 rows, 5 columns and 10 nonzeros\n",
      "Model fingerprint: 0x78093ce5\n",
      "Coefficient statistics:\n",
      "  Matrix range     [1e+00, 3e+00]\n",
      "  Objective range  [3e+00, 5e+00]\n",
      "  Bounds range     [0e+00, 0e+00]\n",
      "  RHS range        [5e-01, 5e-01]\n",
      "Presolve removed 6 rows and 5 columns\n",
      "Presolve time: 0.01s\n",
      "Presolve: All rows and columns removed\n",
      "       0    1.2500000e+00   0.000000e+00   0.000000e+00      0s\n",
      "\n",
      "Solved in 0 iterations and 0.01 seconds (0.00 work units)\n",
      "Optimal objective  1.250000000e+00\n"
     ]
    }
   ],
   "source": [
    "b_new = np.array([0.5, 0.5, 0.5])\n",
    "_fixMvar(model=model,mvar_name=\"b\",shape=[3],value=b_new, cons_name=\"fix_b\")\n",
    "model.optimize()"
   ]
  }
 ],
 "metadata": {
  "kernelspec": {
   "display_name": "py38_torch2",
   "language": "python",
   "name": "python3"
  },
  "language_info": {
   "codemirror_mode": {
    "name": "ipython",
    "version": 3
   },
   "file_extension": ".py",
   "mimetype": "text/x-python",
   "name": "python",
   "nbconvert_exporter": "python",
   "pygments_lexer": "ipython3",
   "version": "3.8.17"
  },
  "orig_nbformat": 4
 },
 "nbformat": 4,
 "nbformat_minor": 2
}
