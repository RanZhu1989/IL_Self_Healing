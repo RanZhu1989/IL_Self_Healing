{
 "cells": [
  {
   "cell_type": "code",
   "execution_count": 10,
   "metadata": {},
   "outputs": [
    {
     "data": {
      "text/plain": [
       "37-element Vector{Vector{Real}}:\n",
       " [1, 1, 2, 0.0922, 0.047, 10, 0]\n",
       " [2, 2, 3, 0.493, 0.2511, 10, 0]\n",
       " [3, 3, 4, 0.366, 0.1864, 10, 0]\n",
       " [4, 4, 5, 0.3811, 0.1941, 10, 0]\n",
       " [5, 5, 6, 0.819, 0.707, 10, 0]\n",
       " [6, 6, 7, 0.1872, 0.6188, 10, 0]\n",
       " [7, 7, 8, 1.7114, 1.2351, 10, 0]\n",
       " [8, 8, 9, 1.03, 0.74, 10, 0]\n",
       " [9, 9, 10, 1.044, 0.74, 10, 0]\n",
       " [10, 10, 11, 0.1966, 0.065, 10, 0]\n",
       " ⋮\n",
       " [29, 29, 30, 0.5075, 0.2585, 10, 0]\n",
       " [30, 30, 31, 0.9744, 0.963, 10, 0]\n",
       " [31, 31, 32, 0.3105, 0.3619, 10, 0]\n",
       " [32, 32, 33, 0.341, 0.5302, 10, 0]\n",
       " [33, 8, 21, 2, 2, 10, 1]\n",
       " [34, 9, 15, 2, 2, 10, 1]\n",
       " [35, 12, 22, 2, 2, 10, 1]\n",
       " [36, 18, 33, 0.5, 0.5, 10, 1]\n",
       " [37, 25, 29, 0.5, 0.5, 10, 1]"
      ]
     },
     "metadata": {},
     "output_type": "display_data"
    }
   ],
   "source": []
  },
  {
   "cell_type": "code",
   "execution_count": 1,
   "metadata": {},
   "outputs": [
    {
     "data": {
      "text/plain": [
       "MakeIncMatrix (generic function with 1 method)"
      ]
     },
     "metadata": {},
     "output_type": "display_data"
    }
   ],
   "source": [
    "function MakeMask(x, y, list)\n",
    "    Mask = zeros(x, y)\n",
    "    for i = 1:x\n",
    "        Mask[i, findall(x -> x == i, list)] .= 1\n",
    "    end\n",
    "    return Mask\n",
    "end\n",
    "\n",
    "function MakeIncMatrix(s, t)\n",
    "    MaxNode = max(maximum(s), maximum(t))\n",
    "    I = zeros(MaxNode, length(s))\n",
    "    for j = 1:length(s)\n",
    "        I[s[j], j] = 1\n",
    "        I[t[j], j] = -1\n",
    "    end\n",
    "    return I\n",
    "end"
   ]
  },
  {
   "cell_type": "code",
   "execution_count": 2,
   "metadata": {},
   "outputs": [
    {
     "ename": "BoundsError",
     "evalue": "BoundsError: attempt to access 33-element Vector{Vector{Real}} at index [1:33, 2]",
     "output_type": "error",
     "traceback": [
      "BoundsError: attempt to access 33-element Vector{Vector{Real}} at index [1:33, 2]\n",
      "\n",
      "Stacktrace:\n",
      " [1] throw_boundserror(A::Vector{Vector{Real}}, I::Tuple{Base.Slice{Base.OneTo{Int64}}, Int64})\n",
      "   @ Base .\\abstractarray.jl:744\n",
      " [2] checkbounds\n",
      "   @ .\\abstractarray.jl:709 [inlined]\n",
      " [3] _getindex\n",
      "   @ .\\multidimensional.jl:860 [inlined]\n",
      " [4] getindex(::Vector{Vector{Real}}, ::Function, ::Int64)\n",
      "   @ Base .\\abstractarray.jl:1294\n",
      " [5] top-level scope\n",
      "   @ d:\\Code\\IL_Self_Healing\\IL_Self_Healing\\model_julia.ipynb:19"
     ]
    }
   ],
   "source": [
    "Sb = 100                   # MW/MVar/MVA\n",
    "Vb = 12.66                # kV\n",
    "Zb = Vb^2/Sb              # O\n",
    "Ib = Sb/(sqrt(3)*Vb)      # kA\n",
    "V0 = 1                    # p.u.\n",
    "V_max = 1.05\n",
    "V_min = 0.95\n",
    "NT = 1                     # 在这里设置步数 step模式为1\n",
    "Big_M_FF = 40             # 单商品流的BigM\n",
    "Big_M_V = 3               # 压降松弛的BigM\n",
    "BigM_SC = 2\n",
    "include(\"33bw_data.jl\")\n",
    "\n",
    "N_Line = size(DN_Branch_Data, 1)\n",
    "N_TL = 5                    # 需要增加tieline辨识\n",
    "N_NL = 32 \n",
    "N_Bus = 33\n",
    "N_PL = N_Bus - 1\n",
    "Pd_Data = DN_Bus_Data[:, 2] ./ Sb\n",
    "Pd_Data_all = sum(Pd_Data)\n",
    "Qd_Data = DN_Bus_Data[:, 3] ./ Sb\n",
    "Qd_Data_all = sum(Qd_Data)\n",
    "Pd_ratio = Pd_Data ./ Pd_Data_all    # Active load ratio\n",
    "Qd_ratio = Qd_Data ./ Qd_Data_all    # Reactive load ratio\n",
    "\n",
    "N_Branch = size(DN_Branch_Data, 1)\n",
    "Branch_start = DN_Branch_Data[:, 2]   # 每条线路的起点和终点\n",
    "Branch_end = DN_Branch_Data[:, 3]\n",
    "LS_Mask = MakeMask(N_Bus, N_Branch, Branch_start)\n",
    "LE_Mask = MakeMask(N_Bus, N_Branch, Branch_end)\n",
    "pIn = MakeIncMatrix(Branch_start, Branch_end)   # 潮流方程专用  关联矩阵，node-branch incidence matrix  jk-ij\n",
    "pInn = copy(pIn)\n",
    "pInn[pInn .> 0] .= 0    # 潮流方程专用 Inn is the negative part of I   +ij\n",
    "R_Branch0 = DN_Branch_Data[:, 4] ./ Zb   # 线路阻抗\n",
    "X_Branch0 = DN_Branch_Data[:, 5] ./ Zb   # 线路电抗\n",
    "SZ_Branch0 = R_Branch0 .^ 2 + X_Branch0 .^ 2   # SOCP模型专用 线路阻抗模平方\n",
    "S_Branch0 = DN_Branch_Data[:, 6] ./ Sb\n",
    "Alive = DN_Branch_Data[:, 7] \n",
    "\n",
    "N_DG = size(DG_Data, 1)\n",
    "DataDN_IndDG = DG_Data[:, 2]   # DG接入位置\n",
    "DataDN_IndBSDG = DG_Data[findall(x -> x == 1, DG_Data[:, 7]), 2]   # DG中黑启动机组\n",
    "DataDN_IndNMDG = DG_Data[findall(x -> x == 0, DG_Data[:, 7]), 2]   # DG中非黑启动机组\n",
    "N_BSDG = size(DataDN_IndBSDG, 1)\n",
    "N_NMDG = size(DataDN_IndNMDG, 1)\n",
    "P_DG_max0 = DG_Data[:, 3] ./ Sb\n",
    "P_DG_min0 = DG_Data[:, 4] ./ Sb\n",
    "Q_DG_max0 = DG_Data[:, 5] ./ Sb\n",
    "Q_DG_min0 = DG_Data[:, 6] ./ Sb\n",
    "DG_Mask = MakeMask(N_Bus, N_DG, DataDN_IndDG)   # DG接入关联矩阵\n",
    "BSDG_Mask = MakeMask(N_Bus, N_BSDG, DataDN_IndBSDG)   # BSDG接入关联矩阵\n",
    "NMDG_Mask = MakeMask(N_Bus, N_NMDG, DataDN_IndNMDG)   # Normal DG接入关联矩阵"
   ]
  }
 ],
 "metadata": {
  "kernelspec": {
   "display_name": "Julia 1.9.2",
   "language": "julia",
   "name": "julia-1.9"
  },
  "language_info": {
   "file_extension": ".jl",
   "mimetype": "application/julia",
   "name": "julia",
   "version": "1.9.2"
  },
  "orig_nbformat": 4
 },
 "nbformat": 4,
 "nbformat_minor": 2
}
