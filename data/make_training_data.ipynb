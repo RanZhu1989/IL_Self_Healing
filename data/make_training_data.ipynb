{
 "cells": [
  {
   "cell_type": "code",
   "execution_count": 3,
   "metadata": {},
   "outputs": [],
   "source": [
    "import os\n",
    "import pickle\n",
    "import collections\n",
    "import random\n",
    "from typing import Tuple\n",
    "\n",
    "import numpy as np\n",
    "import gymnasium as gym\n",
    "from tqdm import tqdm\n",
    "import pandas as pd\n",
    "\n",
    "import selfhealing_env"
   ]
  },
  {
   "cell_type": "code",
   "execution_count": 4,
   "metadata": {},
   "outputs": [
    {
     "name": "stdout",
     "output_type": "stream",
     "text": [
      "Warning for adding constraints: zero or small (< 1e-13) coefficients, ignored\n",
      "Warning for adding constraints: zero or small (< 1e-13) coefficients, ignored\n"
     ]
    },
    {
     "name": "stderr",
     "output_type": "stream",
     "text": [
      "Collecting Expert Data: 100%|██████████| 500/500 [01:32<00:00,  5.38it/s]\n"
     ]
    }
   ],
   "source": [
    "env = gym.make(id='SelfHealing-v0',\n",
    "                opt_framework='Gurobipy',\n",
    "                solver='gurobi',\n",
    "                data_file='Case_33BW_Data.xlsx',\n",
    "                solver_display=False,\n",
    "                min_disturbance=1,\n",
    "                max_disturbance=1,\n",
    "                vvo=False,\n",
    "                Sb=100,\n",
    "                V0=1.05,\n",
    "                V_min=0.95,\n",
    "                V_max=1.05)\n",
    "\n",
    "expert_episode_used = 500\n",
    "steps = 5\n",
    "\n",
    "data = pd.DataFrame(columns=['D', 'step' ,'old_obs', 'action', 'next_obs', 'done'])\n",
    "\n",
    "options = {\n",
    "            \"Specific_Disturbance\": None,\n",
    "            \"Expert_Policy_Required\": True,\n",
    "            \"External_RNG\": None\n",
    "        }\n",
    "sampled_idx = 0\n",
    "with tqdm(total=expert_episode_used,\n",
    "            desc='Collecting Expert Data') as pbar:\n",
    "    while sampled_idx < expert_episode_used:\n",
    "        # Ensure that the env has a solution\n",
    "        while True:\n",
    "            obs, info = env.reset(options=options)\n",
    "            if info[\"Expert_Policy\"] != None:\n",
    "                D = info[\"Disturbance_Set\"]\n",
    "                sampled_idx += 1\n",
    "                break\n",
    "        # Collect expert experience\n",
    "        \n",
    "        Y = info[\"Expert_Policy\"][\"TieLine_Action\"]  # a1-a5\n",
    "        step = 0\n",
    "        done = False\n",
    "        while not done:\n",
    "            old_obs = obs.copy()\n",
    "            action = Y[step].item()\n",
    "            next_obs, _, terminated, truncated, _ = env.step(\n",
    "                action)\n",
    "            done = terminated or truncated\n",
    "            obs = next_obs\n",
    "            data.loc[len(data)] = [D, step, old_obs, action, next_obs, done]\n",
    "            step += 1\n",
    "        pbar.update(1)\n"
   ]
  },
  {
   "cell_type": "code",
   "execution_count": 5,
   "metadata": {},
   "outputs": [],
   "source": [
    "# Save the data\n",
    "data.to_pickle('expert_data.pkl')"
   ]
  },
  {
   "cell_type": "code",
   "execution_count": 6,
   "metadata": {},
   "outputs": [],
   "source": [
    "data = pd.read_pickle('expert_data.pkl')"
   ]
  }
 ],
 "metadata": {
  "kernelspec": {
   "display_name": "torch",
   "language": "python",
   "name": "python3"
  },
  "language_info": {
   "codemirror_mode": {
    "name": "ipython",
    "version": 3
   },
   "file_extension": ".py",
   "mimetype": "text/x-python",
   "name": "python",
   "nbconvert_exporter": "python",
   "pygments_lexer": "ipython3",
   "version": "3.8.19"
  }
 },
 "nbformat": 4,
 "nbformat_minor": 2
}
