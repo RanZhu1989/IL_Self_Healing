{
 "cells": [
  {
   "cell_type": "code",
   "execution_count": 26,
   "metadata": {},
   "outputs": [],
   "source": [
    "from sys_data import System_Data\n",
    "import numpy as np\n",
    "import gurobipy as gp\n",
    "from gurobipy import GRB"
   ]
  },
  {
   "cell_type": "code",
   "execution_count": 27,
   "metadata": {},
   "outputs": [],
   "source": [
    "system_data = System_Data(file_name='Case_33BW_Data.xlsx')\n",
    "model = gp.Model(\"Expert_Model\")\n",
    "\n",
    "NT, N_Branch, N_TL, N_NL, N_Bus, pIn, N_DG, DG_Mask, R_Branch, X_Branch, Big_M_V, V0, \\\n",
    "    V_min, V_max, Pd, Qd, S_Branch, P_DG_min, P_DG_max, Q_DG_min, Q_DG_max, BigM_SC, BSDG_Mask, \\\n",
    "    Big_M_FF = system_data.args_expert"
   ]
  },
  {
   "cell_type": "code",
   "execution_count": 28,
   "metadata": {},
   "outputs": [],
   "source": [
    "PF = model.addMVar(shape=(N_Branch,NT), vtype=GRB.BINARY, name=\"PF\")\n",
    "QF = model.addMVar(shape=(N_Branch,NT), vtype=GRB.BINARY, name=\"QF\")\n",
    "V = model.addMVar(shape=(N_Bus,NT), vtype=GRB.CONTINUOUS, name=\"V\")\n",
    "\n",
    "P_dg = model.addMVar(shape=(N_DG,NT), vtype=GRB.CONTINUOUS, name=\"P_dg\")\n",
    "Q_dg = model.addMVar(shape=(N_DG,NT), vtype=GRB.CONTINUOUS, name=\"Q_dg\")"
   ]
  },
  {
   "cell_type": "code",
   "execution_count": 29,
   "metadata": {},
   "outputs": [],
   "source": [
    "# ------------------潮流--------------------\n",
    "# 1. Bus PQ Blance: S_jk - S_ij = S_inj\n",
    "model.addConstr(pIn @ PF == DG_Mask @ P_dg - Pd)\n",
    "model.addConstr(pIn @ QF == DG_Mask @ Q_dg - Qd)\n",
    "\n",
    "  # 2. Voltage : U_j - U_i = r*Q_ij + x*P_ij\n",
    "# model.addConstr(pIn.T @ V == R_Branch * PF + X_Branch * QF)\n",
    "# model.addConstr(V[0,:] == V0)\n",
    "# model.addConstr(V[1:,:] <= V_max)\n",
    "# model.addConstr(V[1:,:] >= V_min)\n",
    "\n",
    "    # % 4. 线路\n",
    "model.addConstr(PF >= -S_Branch)\n",
    "model.addConstr(PF <= S_Branch)\n",
    "model.addConstr(QF >= -S_Branch)\n",
    "model.addConstr(QF <= S_Branch)\n",
    "  # ------------DG ----------------\n",
    "model.addConstr(P_dg >= P_DG_min)\n",
    "model.addConstr(P_dg <= P_DG_max)\n",
    "model.addConstr(Q_dg >= Q_DG_min)\n",
    "model.addConstr(Q_dg <= Q_DG_max)\n",
    "\n",
    "model.setObjective(0)"
   ]
  },
  {
   "cell_type": "code",
   "execution_count": 30,
   "metadata": {},
   "outputs": [
    {
     "name": "stdout",
     "output_type": "stream",
     "text": [
      "Gurobi Optimizer version 10.0.2 build v10.0.2rc0 (win64)\n",
      "\n",
      "CPU model: 13th Gen Intel(R) Core(TM) i5-1340P, instruction set [SSE2|AVX|AVX2]\n",
      "Thread count: 12 physical cores, 16 logical processors, using up to 16 threads\n",
      "\n",
      "Optimize a model with 1210 rows, 605 columns and 1690 nonzeros\n",
      "Model fingerprint: 0xe23b6a2d\n",
      "Variable types: 235 continuous, 370 integer (370 binary)\n",
      "Coefficient statistics:\n",
      "  Matrix range     [1e+00, 1e+00]\n",
      "  Objective range  [0e+00, 0e+00]\n",
      "  Bounds range     [1e+00, 1e+00]\n",
      "  RHS range        [1e-04, 1e+00]\n",
      "Presolve removed 440 rows and 165 columns\n",
      "Presolve time: 0.00s\n",
      "\n",
      "Explored 0 nodes (0 simplex iterations) in 0.01 seconds (0.00 work units)\n",
      "Thread count was 1 (of 16 available processors)\n",
      "\n",
      "Solution count 0\n",
      "\n",
      "Model is infeasible\n",
      "Best objective -, best bound -, gap -\n"
     ]
    },
    {
     "ename": "GurobiError",
     "evalue": "Unable to retrieve attribute 'X'",
     "output_type": "error",
     "traceback": [
      "\u001b[1;31m---------------------------------------------------------------------------\u001b[0m",
      "\u001b[1;31mGurobiError\u001b[0m                               Traceback (most recent call last)",
      "Cell \u001b[1;32mIn[30], line 3\u001b[0m\n\u001b[0;32m      1\u001b[0m model\u001b[39m.\u001b[39mParams\u001b[39m.\u001b[39mOutputFlag \u001b[39m=\u001b[39m \u001b[39m1\u001b[39m\n\u001b[0;32m      2\u001b[0m model\u001b[39m.\u001b[39moptimize()\n\u001b[1;32m----> 3\u001b[0m \u001b[39mprint\u001b[39m(V\u001b[39m.\u001b[39;49mX)\n",
      "File \u001b[1;32msrc\\gurobipy\\mvar.pxi:296\u001b[0m, in \u001b[0;36mgurobipy.MVar.__getattr__\u001b[1;34m()\u001b[0m\n",
      "File \u001b[1;32msrc\\gurobipy\\mvar.pxi:557\u001b[0m, in \u001b[0;36mgurobipy.MVar.getAttr\u001b[1;34m()\u001b[0m\n",
      "File \u001b[1;32msrc\\gurobipy\\attrutil.pxi:148\u001b[0m, in \u001b[0;36mgurobipy.__gettypedattrlist\u001b[1;34m()\u001b[0m\n",
      "\u001b[1;31mGurobiError\u001b[0m: Unable to retrieve attribute 'X'"
     ]
    }
   ],
   "source": [
    "model.Params.OutputFlag = 1\n",
    "model.optimize()\n",
    "print(V.X)"
   ]
  },
  {
   "cell_type": "code",
   "execution_count": null,
   "metadata": {},
   "outputs": [],
   "source": [
    "Big_M_V * (1 - b)"
   ]
  }
 ],
 "metadata": {
  "kernelspec": {
   "display_name": "py38_torch2",
   "language": "python",
   "name": "python3"
  },
  "language_info": {
   "codemirror_mode": {
    "name": "ipython",
    "version": 3
   },
   "file_extension": ".py",
   "mimetype": "text/x-python",
   "name": "python",
   "nbconvert_exporter": "python",
   "pygments_lexer": "ipython3",
   "version": "3.8.17"
  },
  "orig_nbformat": 4
 },
 "nbformat": 4,
 "nbformat_minor": 2
}
