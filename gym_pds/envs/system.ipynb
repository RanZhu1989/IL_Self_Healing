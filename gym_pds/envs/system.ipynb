{
 "cells": [
  {
   "cell_type": "code",
   "execution_count": 1,
   "metadata": {},
   "outputs": [],
   "source": [
    "import pandas as pd\n",
    "import numpy as np\n",
    "# import math\n",
    "from utils_env import *"
   ]
  },
  {
   "cell_type": "code",
   "execution_count": 2,
   "metadata": {},
   "outputs": [],
   "source": [
    "Sb = 100.0                # MW/MVar/MVA\n",
    "Vb = 12.66             # kV\n",
    "Zb = Vb**2/Sb           # O\n",
    "# Ib = Sb/(math.sqrt(3)*Vb)   # kA\n",
    "V0 = 1.0 # p.u.\n",
    "V_max = 1.05\n",
    "V_min = 0.95\n",
    "Big_M_FF = 40             # 单商品流的BigM\n",
    "Big_M_V = 3               # 压降松弛的BigM\n",
    "BigM_SC = 2\n",
    "\n",
    "NT = 5"
   ]
  },
  {
   "cell_type": "code",
   "execution_count": 3,
   "metadata": {},
   "outputs": [],
   "source": [
    "Bus_Data=pd.read_excel('Case_33BW_Data.xlsx',sheet_name='Bus').to_numpy()\n",
    "Branch_Data=pd.read_excel('Case_33BW_Data.xlsx',sheet_name='Branch').to_numpy()\n",
    "DG_Data = pd.read_excel('Case_33BW_Data.xlsx',sheet_name='DG').to_numpy()"
   ]
  },
  {
   "cell_type": "code",
   "execution_count": 4,
   "metadata": {},
   "outputs": [],
   "source": [
    "N_Bus = 33\n",
    "Pd_Data = Bus_Data[:, 1] / Sb\n",
    "Pd_Data_all = np.sum(Pd_Data)\n",
    "Qd_Data = Bus_Data[:, 2] / Sb\n",
    "Qd_Data_all = np.sum(Qd_Data)\n",
    "Pd_ratio = Pd_Data / Pd_Data_all  # Active load ratio\n",
    "Qd_ratio = Qd_Data / Qd_Data_all  # Reactive load ratio\n",
    "\n",
    "N_Branch = Branch_Data.shape[0]\n",
    "N_TL = np.sum(Branch_Data[:, 6] == 1).item()  # 必须加上.item()，否则返回的是array([x]) 导致后面传入julia进程数据类型错误\n",
    "N_NL = np.sum(Branch_Data[:, 6] == 0).item()\n",
    "\n",
    "Branch_start = Branch_Data[:, 1].astype(int)  #每条线路的起点和终点\n",
    "Branch_end = Branch_Data[:, 2].astype(int)\n",
    "\n",
    "# LS_Mask = make_mask(N_Bus,N_Branch,Branch_start ) \n",
    "# LE_Mask = make_mask(N_Bus,N_Branch,Branch_end )\n",
    "\n",
    "pIn = make_inc_matrix(Branch_start, Branch_end)\n",
    "pInn = np.copy(pIn)\n",
    "pInn[pInn > 0] = 0\n",
    "\n",
    "R_Branch0 = Branch_Data[:, 3] / Zb\n",
    "X_Branch0 = Branch_Data[:, 4] / Zb\n",
    "SZ_Branch0 = R_Branch0 ** 2 + X_Branch0 ** 2\n",
    "S_Branch0 = Branch_Data[:, 5] / Sb\n",
    "\n",
    "N_DG = DG_Data.shape[0]\n",
    "DataDN_IndDG = DG_Data[:, 1]\n",
    "DataDN_IndBSDG = DG_Data[DG_Data[:, 6] == 1, 1]\n",
    "DataDN_IndNMDG = DG_Data[DG_Data[:, 6] == 0, 1]\n",
    "N_BSDG = DataDN_IndBSDG.shape[0]\n",
    "# N_NMDG = DataDN_IndNMDG.shape[0]\n",
    "P_DG_max0 = DG_Data[:, 2] / Sb\n",
    "P_DG_min0 = DG_Data[:, 3] / Sb\n",
    "Q_DG_max0 = DG_Data[:, 4] / Sb\n",
    "Q_DG_min0 = DG_Data[:, 5] / Sb\n",
    "DG_Mask = make_mask(N_Bus, N_DG, DataDN_IndDG)\n",
    "BSDG_Mask = make_mask(N_Bus, N_BSDG, DataDN_IndBSDG)\n",
    "# NMDG_Mask = make_mask(N_Bus, N_NMDG, DataDN_IndNMDG)\n",
    "\n",
    "load_pec = 1.0\n",
    "Pd_all = Pd_Data_all * load_pec\n",
    "Qd_all = Qd_Data_all * load_pec\n",
    "X_tieline0 = np.zeros(N_TL)\n",
    "dmg_list = [6, 11, 29, 32]\n",
    "\n",
    "Pd = Pd_all * np.tile(Pd_ratio, (NT, 1)).T\n",
    "Qd = Qd_all * np.tile(Qd_ratio, (NT, 1)).T\n",
    "\n",
    "R_Branch = np.tile(R_Branch0, (NT, 1)).T\n",
    "X_Branch = np.tile(X_Branch0, (NT, 1)).T\n",
    "S_Branch = np.tile(S_Branch0, (NT, 1)).T\n",
    "\n",
    "P_DG_max = np.tile(P_DG_max0, (NT, 1)).T\n",
    "P_DG_min = np.tile(P_DG_min0, (NT, 1)).T\n",
    "Q_DG_max = np.tile(Q_DG_max0, (NT, 1)).T\n",
    "Q_DG_min = np.tile(Q_DG_min0, (NT, 1)).T\n",
    "\n",
    "\n",
    "\n",
    "a = np.ones((N_NL, NT))\n",
    "\n",
    "for dmg in dmg_list:\n",
    "    a[dmg-1, :] = 0\n",
    "\n",
    "X_rec0 = np.zeros(33)\n",
    "X_tieline_input = np.array([1, 1, 1, 0, 0])\n",
    "Q_svc_input = np.array([0.002, 0.002, 0.000, 0.002, 0.002, 0.000])\n",
    "\n",
    "args_expert = (NT, N_Branch, N_TL, N_NL, N_Bus, pIn, N_DG, DG_Mask, R_Branch, X_Branch, Big_M_V, V0,\n",
    "        V_min, V_max, Pd, Qd, S_Branch, P_DG_min, P_DG_max, Q_DG_min, Q_DG_max, BigM_SC, BSDG_Mask,\n",
    "        Big_M_FF, a, X_tieline0)\n",
    "\n",
    "args_step = (1, N_Branch, N_TL, N_NL, N_Bus, pIn, N_DG, DG_Mask, R_Branch[:, 0], X_Branch[:, 0], Big_M_V, V0,\n",
    "        V_min, V_max, Pd[:, 0], Qd[:, 0], S_Branch[:, 0], P_DG_min[:, 0], P_DG_max[:, 0], Q_DG_min[:, 0],\n",
    "        Q_DG_max[:, 0], BSDG_Mask, Big_M_FF, a[:, 0], X_rec0, X_tieline_input, Q_svc_input)"
   ]
  },
  {
   "cell_type": "code",
   "execution_count": 5,
   "metadata": {},
   "outputs": [
    {
     "data": {
      "text/plain": [
       "-1.4109000000000003"
      ]
     },
     "execution_count": 5,
     "metadata": {},
     "output_type": "execute_result"
    }
   ],
   "source": [
    "from julia import Main as jl\n",
    "jl.include(\"system_test.jl\")\n",
    "jl.make_opf(args_expert,args_step)\n",
    "# 第一次初始化 5700G大约30s"
   ]
  },
  {
   "cell_type": "code",
   "execution_count": 6,
   "metadata": {},
   "outputs": [
    {
     "data": {
      "text/plain": [
       "-1.4109000000000003"
      ]
     },
     "execution_count": 6,
     "metadata": {},
     "output_type": "execute_result"
    }
   ],
   "source": [
    "jl.opf()\n",
    "# 初始化完成后就很快了"
   ]
  },
  {
   "cell_type": "code",
   "execution_count": 7,
   "metadata": {},
   "outputs": [],
   "source": [
    "# 以下为测试修改a (env.rest)后，专家模型的变化\n",
    "a_input = np.ones((N_NL, NT))\n",
    "dmg_list_new = [11,21] # 先随便定义一个\n",
    "for dmg in dmg_list_new:\n",
    "    a_input[dmg-1, :] = 0"
   ]
  },
  {
   "cell_type": "code",
   "execution_count": 8,
   "metadata": {},
   "outputs": [
    {
     "data": {
      "text/plain": [
       "-1.6652500000000001"
      ]
     },
     "execution_count": 8,
     "metadata": {},
     "output_type": "execute_result"
    }
   ],
   "source": [
    "jl.mod_a(a_input)"
   ]
  }
 ],
 "metadata": {
  "kernelspec": {
   "display_name": "pytorch",
   "language": "python",
   "name": "python3"
  },
  "language_info": {
   "codemirror_mode": {
    "name": "ipython",
    "version": 3
   },
   "file_extension": ".py",
   "mimetype": "text/x-python",
   "name": "python",
   "nbconvert_exporter": "python",
   "pygments_lexer": "ipython3",
   "version": "3.8.16"
  },
  "orig_nbformat": 4
 },
 "nbformat": 4,
 "nbformat_minor": 2
}
