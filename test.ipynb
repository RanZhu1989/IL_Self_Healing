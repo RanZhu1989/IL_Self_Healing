{
 "cells": [
  {
   "cell_type": "code",
   "execution_count": 1,
   "metadata": {},
   "outputs": [],
   "source": [
    "import pandas as pd\n",
    "import numpy as np\n",
    "import math\n",
    "from utils_env import *"
   ]
  },
  {
   "cell_type": "code",
   "execution_count": null,
   "metadata": {},
   "outputs": [],
   "source": [
    "Sb = 100.0                # MW/MVar/MVA\n",
    "Vb = 12.66             # kV\n",
    "Zb = Vb**2/Sb           # O\n",
    "Ib = Sb/(math.sqrt(3)*Vb)   # kA\n",
    "V0 = 1.0 # p.u.\n",
    "Vmax = 1.05\n",
    "Vmin = 0.95"
   ]
  },
  {
   "cell_type": "code",
   "execution_count": null,
   "metadata": {},
   "outputs": [],
   "source": [
    "DN_Bus_Data=pd.read_excel('Case_33BW_Data.xlsx',sheet_name='Bus_Data').to_numpy()\n",
    "DN_Branch_Data=pd.read_excel('Case_33BW_Data.xlsx',sheet_name='Branch_Data').to_numpy()\n",
    "Bus_Plot_Data = pd.read_excel('Case_33BW_Data.xlsx',sheet_name='Plot_Data').to_numpy()\n",
    "DG_Data = pd.read_excel('Case_33BW_Data.xlsx',sheet_name='DG_Data').to_numpy()\n",
    "\n",
    "\n",
    "N_Line = DN_Branch_Data.shape[0]\n",
    "N_Bus = 33\n",
    "N_PL = N_Bus - 1\n",
    "Pd_Data = DN_Bus_Data[:, 1] / Sb\n",
    "Pd_Data_all = np.sum(Pd_Data)\n",
    "Qd_Data = DN_Bus_Data[:, 2] / Sb\n",
    "Qd_Data_all = np.sum(Qd_Data)\n",
    "QP_Factor = Qd_Data / Pd_Data\n",
    "Pd_ratio = Pd_Data / Pd_Data_all  # Active load ratio\n",
    "Qd_ratio = Qd_Data / Qd_Data_all  # Reactive load ratio\n",
    "\n",
    "N_Branch = DN_Branch_Data.shape[0]\n",
    "Branch_start = DN_Branch_Data[:, 1].astype(int)  #每条线路的起点和终点\n",
    "Branch_end = DN_Branch_Data[:, 2].astype(int)\n",
    "\n",
    "LS_Mask = make_mask(N_Bus,N_Branch,Branch_start ) \n",
    "LE_Mask = make_mask(N_Bus,N_Branch,Branch_end )\n",
    "\n",
    "pIn = make_inc_matrix(Branch_start, Branch_end)\n",
    "pInn = np.copy(pIn)\n",
    "pInn[pInn > 0] = 0"
   ]
  }
 ],
 "metadata": {
  "kernelspec": {
   "display_name": "pytorch",
   "language": "python",
   "name": "python3"
  },
  "language_info": {
   "codemirror_mode": {
    "name": "ipython",
    "version": 3
   },
   "file_extension": ".py",
   "mimetype": "text/x-python",
   "name": "python",
   "nbconvert_exporter": "python",
   "pygments_lexer": "ipython3",
   "version": "3.8.16"
  },
  "orig_nbformat": 4
 },
 "nbformat": 4,
 "nbformat_minor": 2
}
